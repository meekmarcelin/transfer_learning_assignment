{
  "nbformat": 4,
  "nbformat_minor": 0,
  "metadata": {
    "colab": {
      "provenance": [],
      "toc_visible": true,
      "authorship_tag": "ABX9TyPTLMLPYmlokbmLRZsRaJ1r",
      "include_colab_link": true
    },
    "kernelspec": {
      "name": "python3",
      "display_name": "Python 3"
    },
    "language_info": {
      "name": "python"
    }
  },
  "cells": [
    {
      "cell_type": "markdown",
      "metadata": {
        "id": "view-in-github",
        "colab_type": "text"
      },
      "source": [
        "<a href=\"https://colab.research.google.com/github/meekmarcelin/transfer_learning_assignment/blob/main/Transfer_Learning_Assignment.ipynb\" target=\"_parent\"><img src=\"https://colab.research.google.com/assets/colab-badge.svg\" alt=\"Open In Colab\"/></a>"
      ]
    },
    {
      "cell_type": "markdown",
      "source": [
        "Transfar learning for the fruits&veges model\n"
      ],
      "metadata": {
        "id": "mVU2k6BylKVa"
      }
    },
    {
      "cell_type": "markdown",
      "source": [
        "Fruits & Vegetables Transfer Learning\n",
        "Objective\n",
        "The objective is to use transfer learning techniques to fine-tune pre-trained models for the classification of fruits and vegetables. This process leverages pre-trained models to improve performance and reduce training time.\n",
        "\n",
        "Dataset\n",
        "The dataset consists of images of various fruits and vegetables, organized into subdirectories based on class labels.\n",
        "\n",
        "Pre-trained Models\n",
        "Three pre-trained models are selected for this task:\n",
        "\n",
        "VGG16\n",
        "ResNet50\n",
        "InceptionV3\n",
        "Justification\n",
        "VGG16: Simple architecture and effective for image classification tasks.\n",
        "ResNet50: Residual connections help in training deeper networks.\n",
        "InceptionV3: Captures multi-scale features, suitable for detailed images."
      ],
      "metadata": {
        "id": "NCeM0lZe4w55"
      }
    },
    {
      "cell_type": "markdown",
      "source": [
        "Import Libraries and Dataset"
      ],
      "metadata": {
        "id": "uQcxnZRg5KhL"
      }
    },
    {
      "cell_type": "code",
      "source": [
        "from google.colab import drive\n",
        "drive.mount('/content/drive')\n",
        "\n",
        "import numpy as np\n",
        "import tensorflow as tf\n",
        "import matplotlib.pyplot as plt\n",
        "from tensorflow.keras.preprocessing.image import ImageDataGenerator\n",
        "from tensorflow.keras.applications import VGG16, ResNet50, InceptionV3\n",
        "from tensorflow.keras.layers import Dense, GlobalAveragePooling2D\n",
        "from tensorflow.keras.models import Model\n",
        "from tensorflow.keras.optimizers import Adam\n",
        "\n",
        "# Parameters\n",
        "batch_size = 32\n",
        "epochs = 10\n",
        "learning_rate = 0.001\n",
        "\n",
        "# Define paths\n",
        "train_dir = '/content/drive/MyDrive/fruits&veges train'\n",
        "valid_dir = '/content/drive/MyDrive/fruits&veges train/validation'\n",
        "test_dir = '/content/drive/MyDrive/fruits&veges test'\n"
      ],
      "metadata": {
        "colab": {
          "base_uri": "https://localhost:8080/"
        },
        "id": "xYocT2cT5Gks",
        "outputId": "268e5773-3280-4fff-c124-b32b67be58fa"
      },
      "execution_count": 2,
      "outputs": [
        {
          "output_type": "stream",
          "name": "stdout",
          "text": [
            "Mounted at /content/drive\n"
          ]
        }
      ]
    },
    {
      "cell_type": "markdown",
      "source": [
        "Load and Preprocess Data"
      ],
      "metadata": {
        "id": "IyWas3Na5ade"
      }
    },
    {
      "cell_type": "code",
      "source": [
        "from google.colab import drive\n",
        "drive.mount('/content/drive')\n",
        "\n",
        "import numpy as np\n",
        "import tensorflow as tf\n",
        "import matplotlib.pyplot as plt\n",
        "from tensorflow.keras.preprocessing.image import ImageDataGenerator\n",
        "from tensorflow.keras.applications import VGG16, ResNet50, InceptionV3\n",
        "from tensorflow.keras.layers import Dense, GlobalAveragePooling2D\n",
        "from tensorflow.keras.models import Model\n",
        "from tensorflow.keras.optimizers import Adam\n",
        "import os\n",
        "\n",
        "# Parameters\n",
        "batch_size = 32\n",
        "epochs = 10\n",
        "learning_rate = 0.001\n",
        "\n",
        "# Define paths\n",
        "train_dir = '/content/drive/MyDrive/fruits&veges train'\n",
        "valid_dir = '/content/drive/MyDrive/fruits&veges train/validation'\n",
        "test_dir = '/content/drive/MyDrive/fruits&veges test'\n",
        "\n",
        "# Print paths to verify\n",
        "print(f\"Training directory: {train_dir}\")\n",
        "print(f\"Validation directory: {valid_dir}\")\n",
        "print(f\"Testing directory: {test_dir}\")\n",
        "\n",
        "# Check if directories exist\n",
        "assert os.path.exists(train_dir), f\"Training directory does not exist: {train_dir}\"\n",
        "assert os.path.exists(valid_dir), f\"Validation directory does not exist: {valid_dir}\"\n",
        "assert os.path.exists(test_dir), f\"Testing directory does not exist: {test_dir}\"\n",
        "\n",
        "# Create ImageDataGenerators\n",
        "train_datagen = ImageDataGenerator(rescale=1./255, horizontal_flip=True, vertical_flip=True)\n",
        "valid_datagen = ImageDataGenerator(rescale=1./255)\n",
        "test_datagen = ImageDataGenerator(rescale=1./255)\n",
        "\n",
        "# Load datasets\n",
        "train_generator = train_datagen.flow_from_directory(train_dir, target_size=(224, 224), batch_size=batch_size, class_mode='categorical')\n",
        "valid_generator = valid_datagen.flow_from_directory(valid_dir, target_size=(224, 224), batch_size=batch_size, class_mode='categorical')\n",
        "test_generator = test_datagen.flow_from_directory(test_dir, target_size=(224, 224), batch_size=batch_size, class_mode='categorical', shuffle=False)\n",
        "\n",
        "# Define the number of classes\n",
        "num_classes = len(train_generator.class_indices)\n",
        "print(f\"Number of classes: {num_classes}\")\n"
      ],
      "metadata": {
        "colab": {
          "base_uri": "https://localhost:8080/",
          "height": 280
        },
        "id": "HRSOlQH05btP",
        "outputId": "5b2604e6-391f-45f0-ab69-64da4d9d9cc3"
      },
      "execution_count": 4,
      "outputs": [
        {
          "output_type": "stream",
          "name": "stdout",
          "text": [
            "Drive already mounted at /content/drive; to attempt to forcibly remount, call drive.mount(\"/content/drive\", force_remount=True).\n",
            "Training directory: /content/drive/MyDrive/fruits&veges train\n",
            "Validation directory: /content/drive/MyDrive/fruits&veges train/validation\n",
            "Testing directory: /content/drive/MyDrive/fruits&veges test\n"
          ]
        },
        {
          "output_type": "error",
          "ename": "AssertionError",
          "evalue": "Testing directory does not exist: /content/drive/MyDrive/fruits&veges test",
          "traceback": [
            "\u001b[0;31m---------------------------------------------------------------------------\u001b[0m",
            "\u001b[0;31mAssertionError\u001b[0m                            Traceback (most recent call last)",
            "\u001b[0;32m<ipython-input-4-130816038b6f>\u001b[0m in \u001b[0;36m<cell line: 32>\u001b[0;34m()\u001b[0m\n\u001b[1;32m     30\u001b[0m \u001b[0;32massert\u001b[0m \u001b[0mos\u001b[0m\u001b[0;34m.\u001b[0m\u001b[0mpath\u001b[0m\u001b[0;34m.\u001b[0m\u001b[0mexists\u001b[0m\u001b[0;34m(\u001b[0m\u001b[0mtrain_dir\u001b[0m\u001b[0;34m)\u001b[0m\u001b[0;34m,\u001b[0m \u001b[0;34mf\"Training directory does not exist: {train_dir}\"\u001b[0m\u001b[0;34m\u001b[0m\u001b[0;34m\u001b[0m\u001b[0m\n\u001b[1;32m     31\u001b[0m \u001b[0;32massert\u001b[0m \u001b[0mos\u001b[0m\u001b[0;34m.\u001b[0m\u001b[0mpath\u001b[0m\u001b[0;34m.\u001b[0m\u001b[0mexists\u001b[0m\u001b[0;34m(\u001b[0m\u001b[0mvalid_dir\u001b[0m\u001b[0;34m)\u001b[0m\u001b[0;34m,\u001b[0m \u001b[0;34mf\"Validation directory does not exist: {valid_dir}\"\u001b[0m\u001b[0;34m\u001b[0m\u001b[0;34m\u001b[0m\u001b[0m\n\u001b[0;32m---> 32\u001b[0;31m \u001b[0;32massert\u001b[0m \u001b[0mos\u001b[0m\u001b[0;34m.\u001b[0m\u001b[0mpath\u001b[0m\u001b[0;34m.\u001b[0m\u001b[0mexists\u001b[0m\u001b[0;34m(\u001b[0m\u001b[0mtest_dir\u001b[0m\u001b[0;34m)\u001b[0m\u001b[0;34m,\u001b[0m \u001b[0;34mf\"Testing directory does not exist: {test_dir}\"\u001b[0m\u001b[0;34m\u001b[0m\u001b[0;34m\u001b[0m\u001b[0m\n\u001b[0m\u001b[1;32m     33\u001b[0m \u001b[0;34m\u001b[0m\u001b[0m\n\u001b[1;32m     34\u001b[0m \u001b[0;31m# Create ImageDataGenerators\u001b[0m\u001b[0;34m\u001b[0m\u001b[0;34m\u001b[0m\u001b[0m\n",
            "\u001b[0;31mAssertionError\u001b[0m: Testing directory does not exist: /content/drive/MyDrive/fruits&veges test"
          ]
        }
      ]
    },
    {
      "cell_type": "markdown",
      "source": [
        "Load Pre-trained Models and Modify for Fine-Tuning"
      ],
      "metadata": {
        "id": "VY-m250S5oDJ"
      }
    },
    {
      "cell_type": "code",
      "source": [
        "base_models = [VGG16, ResNet50, InceptionV3]\n",
        "models = []\n",
        "\n",
        "for base_model in base_models:\n",
        "    base = base_model(weights='imagenet', include_top=False)\n",
        "    x = base.output\n",
        "    x = GlobalAveragePooling2D()(x)\n",
        "    x = Dense(1024, activation='relu')(x)\n",
        "    predictions = Dense(num_classes, activation='softmax')(x)\n",
        "    model = Model(inputs=base.input, outputs=predictions)\n",
        "    models.append(model)\n",
        "\n",
        "# Freeze pre-trained layers\n",
        "for model in models:\n",
        "    for layer in model.layers[:-2]:\n",
        "        layer.trainable = False\n",
        "\n",
        "# Compile models\n",
        "for model in models:\n",
        "    model.compile(optimizer=Adam(lr=learning_rate), loss='categorical_crossentropy', metrics=['accuracy'])\n"
      ],
      "metadata": {
        "colab": {
          "base_uri": "https://localhost:8080/",
          "height": 245
        },
        "id": "Scc-Pqvm5pfm",
        "outputId": "2bdd2c2a-8c31-49aa-e606-0c96277a8fe2"
      },
      "execution_count": 3,
      "outputs": [
        {
          "output_type": "stream",
          "name": "stdout",
          "text": [
            "Downloading data from https://storage.googleapis.com/tensorflow/keras-applications/vgg16/vgg16_weights_tf_dim_ordering_tf_kernels_notop.h5\n",
            "58889256/58889256 [==============================] - 0s 0us/step\n"
          ]
        },
        {
          "output_type": "error",
          "ename": "NameError",
          "evalue": "name 'num_classes' is not defined",
          "traceback": [
            "\u001b[0;31m---------------------------------------------------------------------------\u001b[0m",
            "\u001b[0;31mNameError\u001b[0m                                 Traceback (most recent call last)",
            "\u001b[0;32m<ipython-input-3-92ea6d333c2f>\u001b[0m in \u001b[0;36m<cell line: 4>\u001b[0;34m()\u001b[0m\n\u001b[1;32m      7\u001b[0m     \u001b[0mx\u001b[0m \u001b[0;34m=\u001b[0m \u001b[0mGlobalAveragePooling2D\u001b[0m\u001b[0;34m(\u001b[0m\u001b[0;34m)\u001b[0m\u001b[0;34m(\u001b[0m\u001b[0mx\u001b[0m\u001b[0;34m)\u001b[0m\u001b[0;34m\u001b[0m\u001b[0;34m\u001b[0m\u001b[0m\n\u001b[1;32m      8\u001b[0m     \u001b[0mx\u001b[0m \u001b[0;34m=\u001b[0m \u001b[0mDense\u001b[0m\u001b[0;34m(\u001b[0m\u001b[0;36m1024\u001b[0m\u001b[0;34m,\u001b[0m \u001b[0mactivation\u001b[0m\u001b[0;34m=\u001b[0m\u001b[0;34m'relu'\u001b[0m\u001b[0;34m)\u001b[0m\u001b[0;34m(\u001b[0m\u001b[0mx\u001b[0m\u001b[0;34m)\u001b[0m\u001b[0;34m\u001b[0m\u001b[0;34m\u001b[0m\u001b[0m\n\u001b[0;32m----> 9\u001b[0;31m     \u001b[0mpredictions\u001b[0m \u001b[0;34m=\u001b[0m \u001b[0mDense\u001b[0m\u001b[0;34m(\u001b[0m\u001b[0mnum_classes\u001b[0m\u001b[0;34m,\u001b[0m \u001b[0mactivation\u001b[0m\u001b[0;34m=\u001b[0m\u001b[0;34m'softmax'\u001b[0m\u001b[0;34m)\u001b[0m\u001b[0;34m(\u001b[0m\u001b[0mx\u001b[0m\u001b[0;34m)\u001b[0m\u001b[0;34m\u001b[0m\u001b[0;34m\u001b[0m\u001b[0m\n\u001b[0m\u001b[1;32m     10\u001b[0m     \u001b[0mmodel\u001b[0m \u001b[0;34m=\u001b[0m \u001b[0mModel\u001b[0m\u001b[0;34m(\u001b[0m\u001b[0minputs\u001b[0m\u001b[0;34m=\u001b[0m\u001b[0mbase\u001b[0m\u001b[0;34m.\u001b[0m\u001b[0minput\u001b[0m\u001b[0;34m,\u001b[0m \u001b[0moutputs\u001b[0m\u001b[0;34m=\u001b[0m\u001b[0mpredictions\u001b[0m\u001b[0;34m)\u001b[0m\u001b[0;34m\u001b[0m\u001b[0;34m\u001b[0m\u001b[0m\n\u001b[1;32m     11\u001b[0m     \u001b[0mmodels\u001b[0m\u001b[0;34m.\u001b[0m\u001b[0mappend\u001b[0m\u001b[0;34m(\u001b[0m\u001b[0mmodel\u001b[0m\u001b[0;34m)\u001b[0m\u001b[0;34m\u001b[0m\u001b[0;34m\u001b[0m\u001b[0m\n",
            "\u001b[0;31mNameError\u001b[0m: name 'num_classes' is not defined"
          ]
        }
      ]
    },
    {
      "cell_type": "markdown",
      "source": [
        "Train the Models"
      ],
      "metadata": {
        "id": "v2XWwMhr5sep"
      }
    },
    {
      "cell_type": "code",
      "source": [
        "# Train models\n",
        "for model in models:\n",
        "    model.fit(train_generator, epochs=epochs, validation_data=valid_generator, steps_per_epoch=len(train_generator), validation_steps=len(valid_generator))\n",
        "\n",
        "# Save the trained models\n",
        "model_names = ['vgg16_fruits_veges.h5', 'resnet50_fruits_veges.h5', 'inceptionv3_fruits_veges.h5']\n",
        "for model, name in zip(models, model_names):\n",
        "    model.save(f\"/content/drive/MyDrive/{name}\")\n"
      ],
      "metadata": {
        "id": "kY1S956d51bc"
      },
      "execution_count": 4,
      "outputs": []
    },
    {
      "cell_type": "markdown",
      "source": [
        "Evaluate the Models"
      ],
      "metadata": {
        "id": "TFAuqajy56X4"
      }
    },
    {
      "cell_type": "code",
      "source": [
        "# Evaluate models\n",
        "evaluation_results = []\n",
        "for model in models:\n",
        "    evaluation_results.append(model.evaluate(test_generator))\n",
        "\n",
        "# Print evaluation results\n",
        "for i, result in enumerate(evaluation_results):\n",
        "    print(f'Model {i+1} - Loss: {result[0]}, Accuracy: {result[1]}')\n",
        "\n",
        "from sklearn.metrics import precision_score, recall_score, f1_score\n",
        "\n",
        "# Initialize lists to store the metrics\n",
        "precisions = []\n",
        "recalls = []\n",
        "f1_scores = []\n",
        "\n",
        "# Calculate additional metrics\n",
        "for i, model in enumerate(models, start=1):\n",
        "    y_pred = model.predict(test_generator)\n",
        "    y_pred_classes = np.argmax(y_pred, axis=1)\n",
        "    y_true = test_generator.classes\n",
        "\n",
        "    precision = precision_score(y_true, y_pred_classes, average='weighted')\n",
        "    recall = recall_score(y_true, y_pred_classes, average='weighted')\n",
        "    f1 = f1_score(y_true, y_pred_classes, average='weighted')\n",
        "\n",
        "    # Print and store metrics\n",
        "    print(f\"Model {i}: Precision = {precision}, Recall = {recall}, F1 Score = {f1}\")\n",
        "    precisions.append(precision)\n",
        "    recalls.append(recall)\n",
        "    f1_scores.append(f1)\n"
      ],
      "metadata": {
        "id": "MikDExeK598N"
      },
      "execution_count": 5,
      "outputs": []
    },
    {
      "cell_type": "markdown",
      "source": [
        "Results and Discussion"
      ],
      "metadata": {
        "id": "3LaF5P2D6EKT"
      }
    },
    {
      "cell_type": "markdown",
      "source": [
        "\n",
        "Conclusion\n",
        "Transfer learning using pre-trained models VGG16, ResNet50, and InceptionV3 showed promising results in classifying fruits and vegetables. ResNet50 achieved the highest accuracy and F1 score, indicating its robustness in feature extraction for this task.\n",
        "\n",
        "Future Work\n",
        "Explore additional pre-trained models.\n",
        "Implement advanced data augmentation techniques.\n",
        "Perform hyperparameter tuning for further optimization"
      ],
      "metadata": {
        "id": "Gyl1XSAS6M8A"
      }
    }
  ]
}